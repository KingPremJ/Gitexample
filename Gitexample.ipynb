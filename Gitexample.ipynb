{
 "cells": [
  {
   "cell_type": "markdown",
   "id": "51e5b88b",
   "metadata": {},
   "source": [
    "## 1. Create a program that displays your name and complete mailing address formatted in the manner that you would usually see it on the outside of an envelope. Your program does not need to read any input from the user."
   ]
  },
  {
   "cell_type": "code",
   "execution_count": 20,
   "id": "0a161ceb",
   "metadata": {},
   "outputs": [
    {
     "name": "stdout",
     "output_type": "stream",
     "text": [
      "Kingston Premkumar J,\n",
      "2/91, South Street,\n",
      "Megnanapuram,\n",
      "Tiruchendur Taluk,\n",
      "Thoothukudi District,\n",
      "TamilNadu,\n",
      "Pincode: 628210\n"
     ]
    }
   ],
   "source": [
    "address='''Kingston Premkumar J,\n",
    "2/91, South Street,\n",
    "Megnanapuram,\n",
    "Tiruchendur Taluk,\n",
    "Thoothukudi District,\n",
    "TamilNadu,\n",
    "Pincode: 628210'''\n",
    "\n",
    "print(address)"
   ]
  },
  {
   "cell_type": "markdown",
   "id": "55f41ad0",
   "metadata": {},
   "source": [
    "## 2. Write a program that asks the user to enter his or her name. The program should respond with a message that says hello to the user, using his or her name."
   ]
  },
  {
   "cell_type": "code",
   "execution_count": 21,
   "id": "be755cd4",
   "metadata": {},
   "outputs": [
    {
     "name": "stdout",
     "output_type": "stream",
     "text": [
      "Please enter your name: kin\n",
      "Hello kin\n"
     ]
    }
   ],
   "source": [
    "name=input('Please enter your name: ')\n",
    "print(\"Hello\",name)"
   ]
  },
  {
   "cell_type": "markdown",
   "id": "f0361702",
   "metadata": {},
   "source": [
    "## 3. Write a program that accepts radius (datatype : float) of a circle from the user. Calculate and display the area and circumference of the circle"
   ]
  },
  {
   "cell_type": "code",
   "execution_count": 22,
   "id": "84169b48",
   "metadata": {},
   "outputs": [
    {
     "name": "stdout",
     "output_type": "stream",
     "text": [
      "Enter radius of circle: 2\n",
      "Area of Circle: 12.56\n",
      "Circumference of a circle: 12.56\n"
     ]
    }
   ],
   "source": [
    "radius=float(input('Enter radius of circle: '))\n",
    "print(\"Area of Circle:\",3.14*(radius**2))\n",
    "print(\"Circumference of a circle:\",2*3.14*radius)"
   ]
  },
  {
   "cell_type": "markdown",
   "id": "9281e8eb",
   "metadata": {},
   "source": [
    "## 4. Write a program that accepts length and breadth (both float) of a rectangle from the user. Calculate and display the area and perimeter of the rectangle"
   ]
  },
  {
   "cell_type": "code",
   "execution_count": 23,
   "id": "18262fd9",
   "metadata": {},
   "outputs": [
    {
     "name": "stdout",
     "output_type": "stream",
     "text": [
      "Enter radius of length: 3\n",
      "Enter radius of breadth: 4\n",
      "Area of rectangle: 12.0\n",
      "Perimeter of rectangle: 14.0\n"
     ]
    }
   ],
   "source": [
    "length=float(input('Enter radius of length: '))\n",
    "breadth=float(input('Enter radius of breadth: '))\n",
    "print(\"Area of rectangle:\",length*breadth)\n",
    "print(\"Perimeter of rectangle:\",2*(length+breadth))"
   ]
  },
  {
   "cell_type": "markdown",
   "id": "d403dcea",
   "metadata": {},
   "source": [
    "## 5. Write a program to accept the side (datatype : float) of a square from the user. Calculate and display the area and perimeter of the square"
   ]
  },
  {
   "cell_type": "code",
   "execution_count": 24,
   "id": "2acbf3b0",
   "metadata": {},
   "outputs": [
    {
     "name": "stdout",
     "output_type": "stream",
     "text": [
      "Enter radius of side: 2\n",
      "Area of Square: 4.0\n",
      "Perimeter of Square: 8.0\n"
     ]
    }
   ],
   "source": [
    "side=float(input('Enter radius of side: '))\n",
    "print(\"Area of Square:\",side*side)\n",
    "print(\"Perimeter of Square:\",4*side)"
   ]
  },
  {
   "cell_type": "markdown",
   "id": "df615f4c",
   "metadata": {},
   "source": [
    "## 6. Write a program to accept the temperature (datatype : float) in Fahrenheit and convert it into Centigrade. Modify the program to accept the temperature in Centigrade and convert it into Fahrenheit"
   ]
  },
  {
   "cell_type": "code",
   "execution_count": 25,
   "id": "0366befc",
   "metadata": {},
   "outputs": [
    {
     "name": "stdout",
     "output_type": "stream",
     "text": [
      "Enter temperature in Farenheit: 33\n",
      "Temperature converted into centigrade:  0.5555555555555556\n",
      "Enter temperature in Centigrade: 1\n",
      "Tempreature converted into Fahrenheit: 33.8\n"
     ]
    }
   ],
   "source": [
    "## Fahrenheit to Centigrade\n",
    "tempf=float(input('Enter temperature in Farenheit: '))\n",
    "centigrade=(tempf-32)*(5/9)\n",
    "print(\"Temperature converted into centigrade: \",centigrade)\n",
    "\n",
    "## Centigrade to Fahrenheit\n",
    "tempc=float(input('Enter temperature in Centigrade: '))\n",
    "fahrenheit=(tempc*(9/5))+32\n",
    "print(\"Tempreature converted into Fahrenheit:\",fahrenheit)"
   ]
  },
  {
   "cell_type": "markdown",
   "id": "8c7e7f37",
   "metadata": {},
   "source": [
    "## 7. Write a program to accept two complex numbers. Perform addition, subtraction and multiplication of these numbers an display the results to the user."
   ]
  },
  {
   "cell_type": "code",
   "execution_count": 26,
   "id": "b0d01609",
   "metadata": {},
   "outputs": [
    {
     "name": "stdout",
     "output_type": "stream",
     "text": [
      "Enter first complex number: 2\n",
      "Enter second complex number: 3+j\n",
      "Adiition of complex number: (5+1j)\n",
      "Subtraction of complex number: (-1-1j)\n",
      "Multiplication of complex number: (6+2j)\n"
     ]
    }
   ],
   "source": [
    "comp1=complex(input('Enter first complex number: '))\n",
    "comp2=complex(input('Enter second complex number: '))\n",
    "##Addition\n",
    "add=comp1+comp2\n",
    "##Subtraction\n",
    "sub=comp1-comp2\n",
    "##Multiplication\n",
    "mul=comp1*comp2\n",
    "\n",
    "print(\"Adiition of complex number:\",add)\n",
    "print(\"Subtraction of complex number:\",sub)\n",
    "print(\"Multiplication of complex number:\",mul)"
   ]
  },
  {
   "cell_type": "markdown",
   "id": "cef4ccf6",
   "metadata": {},
   "source": [
    "## 8. Write a program to accept the name and basic salary (datatype : float) of an employee. Calculate the dearness allowance as 40 % of basic and house rent allowance as 20 % of basic. Display the gross salary to the user. (Hint: gross salary = basic salary + dearness allowance + house rent allowance)"
   ]
  },
  {
   "cell_type": "code",
   "execution_count": 27,
   "id": "76838c5e",
   "metadata": {},
   "outputs": [
    {
     "name": "stdout",
     "output_type": "stream",
     "text": [
      "Please Enter the Employee name: kin\n",
      "Enter basic salary: 20000\n",
      "Gross Salary : 32000.0\n"
     ]
    }
   ],
   "source": [
    "name=input('Please Enter the Employee name: ')\n",
    "bsalary=float(input('Enter basic salary: '))\n",
    "da=bsalary*0.4\n",
    "hra=bsalary*0.2\n",
    "gsalary=bsalary+da+hra\n",
    "print('Gross Salary :',gsalary)"
   ]
  },
  {
   "cell_type": "markdown",
   "id": "1241f8e8",
   "metadata": {},
   "source": [
    "## 9. Write a program that reads a positive integer, n, from the user and then displays the sum of all of the integers from 1 to n. The sum of the first n positive integers can be computed using the formula: sum = (n)(n + 1)/ 2"
   ]
  },
  {
   "cell_type": "code",
   "execution_count": 28,
   "id": "232cc9ee",
   "metadata": {},
   "outputs": [
    {
     "name": "stdout",
     "output_type": "stream",
     "text": [
      "Enter a positive integer: 11\n",
      "Sum of 1 to 11 integers: 66.0\n"
     ]
    }
   ],
   "source": [
    "n=abs(int(input('Enter a positive integer: ')))\n",
    "sum = (n)*(n + 1)/ 2\n",
    "print('Sum of 1 to',n,'integers:',sum)"
   ]
  },
  {
   "cell_type": "markdown",
   "id": "0e6cebf6",
   "metadata": {},
   "source": [
    "## 10. Create a program that reads two integers, a and b, from the user. Your program should compute and display:\n",
    "## a.The sum of a and b\n",
    "## b.The difference when b is subtracted from a\n",
    "## c.The product of a and b\n",
    "## d.The quotient when a is divided by b\n",
    "## e.The remainder when a is divided by b\n",
    "## f.The result of ab"
   ]
  },
  {
   "cell_type": "code",
   "execution_count": 29,
   "id": "a6e7de43",
   "metadata": {},
   "outputs": [
    {
     "name": "stdout",
     "output_type": "stream",
     "text": [
      "Enter the value of a:10\n",
      "Enter the value of b:2\n",
      "The sum of a and b: 12\n",
      "The difference when b is subtracted from a: 8\n",
      "The product of a and b 20\n",
      "The quotient when a is divided by b 5\n",
      "The remainder when a is divided by b 0\n",
      "The result of a power b 100\n"
     ]
    }
   ],
   "source": [
    "a=int(input('Enter the value of a:'))\n",
    "b=int(input('Enter the value of b:'))\n",
    "sum=a+b\n",
    "difference=a-b\n",
    "product=a*b\n",
    "quotient=a//b\n",
    "remainder=a%b\n",
    "power=a**b\n",
    "print('The sum of a and b:',sum)\n",
    "print('The difference when b is subtracted from a:',difference)\n",
    "print('The product of a and b',product)\n",
    "print('The quotient when a is divided by b',quotient)\n",
    "print('The remainder when a is divided by b',remainder)\n",
    "print('The result of a power b',power)"
   ]
  },
  {
   "cell_type": "code",
   "execution_count": null,
   "id": "83cc15ca",
   "metadata": {},
   "outputs": [],
   "source": []
  }
 ],
 "metadata": {
  "kernelspec": {
   "display_name": "Python 3 (ipykernel)",
   "language": "python",
   "name": "python3"
  },
  "language_info": {
   "codemirror_mode": {
    "name": "ipython",
    "version": 3
   },
   "file_extension": ".py",
   "mimetype": "text/x-python",
   "name": "python",
   "nbconvert_exporter": "python",
   "pygments_lexer": "ipython3",
   "version": "3.9.7"
  }
 },
 "nbformat": 4,
 "nbformat_minor": 5
}
